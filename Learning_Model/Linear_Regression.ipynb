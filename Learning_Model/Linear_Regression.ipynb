{
 "cells": [
  {
   "cell_type": "code",
   "execution_count": 4,
   "id": "6e21e570",
   "metadata": {},
   "outputs": [],
   "source": [
    "import pandas as pd\n",
    "from pathlib import Path\n",
    "import matplotlib.pyplot as plt\n",
    "from sklearn.linear_model import LinearRegression"
   ]
  },
  {
   "cell_type": "code",
   "execution_count": 5,
   "id": "bbc0025a",
   "metadata": {},
   "outputs": [
    {
     "data": {
      "text/html": [
       "<div>\n",
       "<style scoped>\n",
       "    .dataframe tbody tr th:only-of-type {\n",
       "        vertical-align: middle;\n",
       "    }\n",
       "\n",
       "    .dataframe tbody tr th {\n",
       "        vertical-align: top;\n",
       "    }\n",
       "\n",
       "    .dataframe thead th {\n",
       "        text-align: right;\n",
       "    }\n",
       "</style>\n",
       "<table border=\"1\" class=\"dataframe\">\n",
       "  <thead>\n",
       "    <tr style=\"text-align: right;\">\n",
       "      <th></th>\n",
       "      <th>LocationTime</th>\n",
       "      <th>LOCATION</th>\n",
       "      <th>INDICATOR</th>\n",
       "      <th>TIME</th>\n",
       "      <th>Value</th>\n",
       "    </tr>\n",
       "  </thead>\n",
       "  <tbody>\n",
       "    <tr>\n",
       "      <th>0</th>\n",
       "      <td>AUS-1992</td>\n",
       "      <td>AUS</td>\n",
       "      <td>SMOKERS</td>\n",
       "      <td>1992</td>\n",
       "      <td>26.0</td>\n",
       "    </tr>\n",
       "    <tr>\n",
       "      <th>1</th>\n",
       "      <td>AUS-1995</td>\n",
       "      <td>AUS</td>\n",
       "      <td>SMOKERS</td>\n",
       "      <td>1995</td>\n",
       "      <td>24.1</td>\n",
       "    </tr>\n",
       "    <tr>\n",
       "      <th>2</th>\n",
       "      <td>AUS-1998</td>\n",
       "      <td>AUS</td>\n",
       "      <td>SMOKERS</td>\n",
       "      <td>1998</td>\n",
       "      <td>22.1</td>\n",
       "    </tr>\n",
       "    <tr>\n",
       "      <th>3</th>\n",
       "      <td>AUS-2001</td>\n",
       "      <td>AUS</td>\n",
       "      <td>SMOKERS</td>\n",
       "      <td>2001</td>\n",
       "      <td>19.6</td>\n",
       "    </tr>\n",
       "    <tr>\n",
       "      <th>4</th>\n",
       "      <td>AUS-2004</td>\n",
       "      <td>AUS</td>\n",
       "      <td>SMOKERS</td>\n",
       "      <td>2004</td>\n",
       "      <td>17.8</td>\n",
       "    </tr>\n",
       "  </tbody>\n",
       "</table>\n",
       "</div>"
      ],
      "text/plain": [
       "  LocationTime LOCATION INDICATOR  TIME  Value\n",
       "0     AUS-1992      AUS   SMOKERS  1992   26.0\n",
       "1     AUS-1995      AUS   SMOKERS  1995   24.1\n",
       "2     AUS-1998      AUS   SMOKERS  1998   22.1\n",
       "3     AUS-2001      AUS   SMOKERS  2001   19.6\n",
       "4     AUS-2004      AUS   SMOKERS  2004   17.8"
      ]
     },
     "execution_count": 5,
     "metadata": {},
     "output_type": "execute_result"
    }
   ],
   "source": [
    "data = Path('smoking_clean.csv')\n",
    "df = pd.read_csv(data)\n",
    "df.head()"
   ]
  },
  {
   "cell_type": "code",
   "execution_count": 23,
   "id": "70037f2b",
   "metadata": {},
   "outputs": [
    {
     "data": {
      "text/html": [
       "<div>\n",
       "<style scoped>\n",
       "    .dataframe tbody tr th:only-of-type {\n",
       "        vertical-align: middle;\n",
       "    }\n",
       "\n",
       "    .dataframe tbody tr th {\n",
       "        vertical-align: top;\n",
       "    }\n",
       "\n",
       "    .dataframe thead th {\n",
       "        text-align: right;\n",
       "    }\n",
       "</style>\n",
       "<table border=\"1\" class=\"dataframe\">\n",
       "  <thead>\n",
       "    <tr style=\"text-align: right;\">\n",
       "      <th></th>\n",
       "      <th>LocationTime</th>\n",
       "      <th>LOCATION</th>\n",
       "      <th>INDICATOR</th>\n",
       "      <th>TIME</th>\n",
       "      <th>Value</th>\n",
       "    </tr>\n",
       "  </thead>\n",
       "  <tbody>\n",
       "    <tr>\n",
       "      <th>0</th>\n",
       "      <td>AUS-1992</td>\n",
       "      <td>AUS</td>\n",
       "      <td>SMOKERS</td>\n",
       "      <td>1992</td>\n",
       "      <td>26.0</td>\n",
       "    </tr>\n",
       "    <tr>\n",
       "      <th>1</th>\n",
       "      <td>AUS-1995</td>\n",
       "      <td>AUS</td>\n",
       "      <td>SMOKERS</td>\n",
       "      <td>1995</td>\n",
       "      <td>24.1</td>\n",
       "    </tr>\n",
       "    <tr>\n",
       "      <th>2</th>\n",
       "      <td>AUS-1998</td>\n",
       "      <td>AUS</td>\n",
       "      <td>SMOKERS</td>\n",
       "      <td>1998</td>\n",
       "      <td>22.1</td>\n",
       "    </tr>\n",
       "    <tr>\n",
       "      <th>3</th>\n",
       "      <td>AUS-2001</td>\n",
       "      <td>AUS</td>\n",
       "      <td>SMOKERS</td>\n",
       "      <td>2001</td>\n",
       "      <td>19.6</td>\n",
       "    </tr>\n",
       "    <tr>\n",
       "      <th>4</th>\n",
       "      <td>AUS-2004</td>\n",
       "      <td>AUS</td>\n",
       "      <td>SMOKERS</td>\n",
       "      <td>2004</td>\n",
       "      <td>17.8</td>\n",
       "    </tr>\n",
       "    <tr>\n",
       "      <th>5</th>\n",
       "      <td>AUS-2007</td>\n",
       "      <td>AUS</td>\n",
       "      <td>SMOKERS</td>\n",
       "      <td>2007</td>\n",
       "      <td>16.9</td>\n",
       "    </tr>\n",
       "    <tr>\n",
       "      <th>6</th>\n",
       "      <td>AUS-2010</td>\n",
       "      <td>AUS</td>\n",
       "      <td>SMOKERS</td>\n",
       "      <td>2010</td>\n",
       "      <td>15.3</td>\n",
       "    </tr>\n",
       "    <tr>\n",
       "      <th>7</th>\n",
       "      <td>AUS-2013</td>\n",
       "      <td>AUS</td>\n",
       "      <td>SMOKERS</td>\n",
       "      <td>2013</td>\n",
       "      <td>13.0</td>\n",
       "    </tr>\n",
       "    <tr>\n",
       "      <th>8</th>\n",
       "      <td>AUS-2016</td>\n",
       "      <td>AUS</td>\n",
       "      <td>SMOKERS</td>\n",
       "      <td>2016</td>\n",
       "      <td>12.4</td>\n",
       "    </tr>\n",
       "    <tr>\n",
       "      <th>9</th>\n",
       "      <td>AUS-2019</td>\n",
       "      <td>AUS</td>\n",
       "      <td>SMOKERS</td>\n",
       "      <td>2019</td>\n",
       "      <td>11.2</td>\n",
       "    </tr>\n",
       "  </tbody>\n",
       "</table>\n",
       "</div>"
      ],
      "text/plain": [
       "  LocationTime LOCATION INDICATOR  TIME  Value\n",
       "0     AUS-1992      AUS   SMOKERS  1992   26.0\n",
       "1     AUS-1995      AUS   SMOKERS  1995   24.1\n",
       "2     AUS-1998      AUS   SMOKERS  1998   22.1\n",
       "3     AUS-2001      AUS   SMOKERS  2001   19.6\n",
       "4     AUS-2004      AUS   SMOKERS  2004   17.8\n",
       "5     AUS-2007      AUS   SMOKERS  2007   16.9\n",
       "6     AUS-2010      AUS   SMOKERS  2010   15.3\n",
       "7     AUS-2013      AUS   SMOKERS  2013   13.0\n",
       "8     AUS-2016      AUS   SMOKERS  2016   12.4\n",
       "9     AUS-2019      AUS   SMOKERS  2019   11.2"
      ]
     },
     "execution_count": 23,
     "metadata": {},
     "output_type": "execute_result"
    }
   ],
   "source": [
    "filtered_df = df.loc[(df['LOCATION'] == \"AUS\")]\n",
    "filtered_df.head(10)"
   ]
  },
  {
   "cell_type": "code",
   "execution_count": 25,
   "id": "8ca7f25c",
   "metadata": {},
   "outputs": [
    {
     "data": {
      "image/png": "[encoded data removed]",
      "text/plain": [
       "<Figure size 640x480 with 1 Axes>"
      ]
     },
     "metadata": {},
     "output_type": "display_data"
    }
   ],
   "source": [
    "plt.scatter(filtered_df.TIME, filtered_df.Value)\n",
    "plt.xlabel('Time')\n",
    "plt.ylabel('Value')\n",
    "plt.show()"
   ]
  },
  {
   "cell_type": "code",
   "execution_count": 8,
   "id": "308074d1",
   "metadata": {},
   "outputs": [
    {
     "data": {
      "text/plain": [
       "array([['AUS-1992'],\n",
       "       ['AUS-1995'],\n",
       "       ['AUS-1998'],\n",
       "       ['AUS-2001'],\n",
       "       ['AUS-2004']], dtype=object)"
      ]
     },
     "execution_count": 8,
     "metadata": {},
     "output_type": "execute_result"
    }
   ],
   "source": [
    "X = df.LocationTime.values.reshape(-1,1)\n",
    "X[:5]"
   ]
  },
  {
   "cell_type": "code",
   "execution_count": 10,
   "id": "401e4350",
   "metadata": {},
   "outputs": [
    {
     "data": {
      "text/plain": [
       "(1997, 1)"
      ]
     },
     "execution_count": 10,
     "metadata": {},
     "output_type": "execute_result"
    }
   ],
   "source": [
    "X.shape"
   ]
  },
  {
   "cell_type": "code",
   "execution_count": null,
   "id": "32ff2b4e",
   "metadata": {},
   "outputs": [],
   "source": []
  }
 ],
 "metadata": {
  "kernelspec": {
   "display_name": "mlenv",
   "language": "python",
   "name": "mlenv"
  },
  "language_info": {
   "codemirror_mode": {
    "name": "ipython",
    "version": 3
   },
   "file_extension": ".py",
   "mimetype": "text/x-python",
   "name": "python",
   "nbconvert_exporter": "python",
   "pygments_lexer": "ipython3",
   "version": "3.7.13"
  }
 },
 "nbformat": 4,
 "nbformat_minor": 5
}
