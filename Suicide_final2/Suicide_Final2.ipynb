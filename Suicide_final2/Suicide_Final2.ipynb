{
 "cells": [
  {
   "cell_type": "code",
   "execution_count": 1,
   "id": "0cebc67c",
   "metadata": {},
   "outputs": [],
   "source": [
    "import pandas as pd\n",
    "import numpy as np\n",
    "import os"
   ]
  },
  {
   "cell_type": "code",
   "execution_count": 2,
   "id": "dbdd15bd",
   "metadata": {},
   "outputs": [
    {
     "ename": "FileNotFoundError",
     "evalue": "[Errno 2] No such file or directory: '../Final Project/Clean Data/suicide_oecd_clean.csv'",
     "output_type": "error",
     "traceback": [
      "\u001b[0;31m---------------------------------------------------------------------------\u001b[0m",
      "\u001b[0;31mFileNotFoundError\u001b[0m                         Traceback (most recent call last)",
      "\u001b[0;32m/var/folders/pj/jmbdp00563g431nw_pbm8lnm0000gn/T/ipykernel_99646/809621830.py\u001b[0m in \u001b[0;36m<module>\u001b[0;34m\u001b[0m\n\u001b[1;32m      1\u001b[0m \u001b[0;31m# IMPORTING CSV FILE-Suicide OECD\u001b[0m\u001b[0;34m\u001b[0m\u001b[0;34m\u001b[0m\u001b[0;34m\u001b[0m\u001b[0m\n\u001b[1;32m      2\u001b[0m \u001b[0moecd_data\u001b[0m \u001b[0;34m=\u001b[0m \u001b[0mos\u001b[0m\u001b[0;34m.\u001b[0m\u001b[0mpath\u001b[0m\u001b[0;34m.\u001b[0m\u001b[0mjoin\u001b[0m\u001b[0;34m(\u001b[0m\u001b[0;34m'..'\u001b[0m\u001b[0;34m,\u001b[0m \u001b[0;34m'Final Project'\u001b[0m\u001b[0;34m,\u001b[0m\u001b[0;34m'Clean Data'\u001b[0m\u001b[0;34m,\u001b[0m \u001b[0;34m'suicide_oecd_clean.csv'\u001b[0m\u001b[0;34m)\u001b[0m\u001b[0;34m\u001b[0m\u001b[0;34m\u001b[0m\u001b[0m\n\u001b[0;32m----> 3\u001b[0;31m \u001b[0moecd_df\u001b[0m \u001b[0;34m=\u001b[0m \u001b[0mpd\u001b[0m\u001b[0;34m.\u001b[0m\u001b[0mread_csv\u001b[0m\u001b[0;34m(\u001b[0m\u001b[0moecd_data\u001b[0m\u001b[0;34m)\u001b[0m\u001b[0;34m\u001b[0m\u001b[0;34m\u001b[0m\u001b[0m\n\u001b[0m\u001b[1;32m      4\u001b[0m \u001b[0moecd_df\u001b[0m\u001b[0;34m.\u001b[0m\u001b[0mhead\u001b[0m\u001b[0;34m(\u001b[0m\u001b[0;34m)\u001b[0m\u001b[0;34m\u001b[0m\u001b[0;34m\u001b[0m\u001b[0m\n",
      "\u001b[0;32m~/opt/anaconda3/envs/PythonData/lib/python3.7/site-packages/pandas/util/_decorators.py\u001b[0m in \u001b[0;36mwrapper\u001b[0;34m(*args, **kwargs)\u001b[0m\n\u001b[1;32m    309\u001b[0m                     \u001b[0mstacklevel\u001b[0m\u001b[0;34m=\u001b[0m\u001b[0mstacklevel\u001b[0m\u001b[0;34m,\u001b[0m\u001b[0;34m\u001b[0m\u001b[0;34m\u001b[0m\u001b[0m\n\u001b[1;32m    310\u001b[0m                 )\n\u001b[0;32m--> 311\u001b[0;31m             \u001b[0;32mreturn\u001b[0m \u001b[0mfunc\u001b[0m\u001b[0;34m(\u001b[0m\u001b[0;34m*\u001b[0m\u001b[0margs\u001b[0m\u001b[0;34m,\u001b[0m \u001b[0;34m**\u001b[0m\u001b[0mkwargs\u001b[0m\u001b[0;34m)\u001b[0m\u001b[0;34m\u001b[0m\u001b[0;34m\u001b[0m\u001b[0m\n\u001b[0m\u001b[1;32m    312\u001b[0m \u001b[0;34m\u001b[0m\u001b[0m\n\u001b[1;32m    313\u001b[0m         \u001b[0;32mreturn\u001b[0m \u001b[0mwrapper\u001b[0m\u001b[0;34m\u001b[0m\u001b[0;34m\u001b[0m\u001b[0m\n",
      "\u001b[0;32m~/opt/anaconda3/envs/PythonData/lib/python3.7/site-packages/pandas/io/parsers/readers.py\u001b[0m in \u001b[0;36mread_csv\u001b[0;34m(filepath_or_buffer, sep, delimiter, header, names, index_col, usecols, squeeze, prefix, mangle_dupe_cols, dtype, engine, converters, true_values, false_values, skipinitialspace, skiprows, skipfooter, nrows, na_values, keep_default_na, na_filter, verbose, skip_blank_lines, parse_dates, infer_datetime_format, keep_date_col, date_parser, dayfirst, cache_dates, iterator, chunksize, compression, thousands, decimal, lineterminator, quotechar, quoting, doublequote, escapechar, comment, encoding, encoding_errors, dialect, error_bad_lines, warn_bad_lines, on_bad_lines, delim_whitespace, low_memory, memory_map, float_precision, storage_options)\u001b[0m\n\u001b[1;32m    584\u001b[0m     \u001b[0mkwds\u001b[0m\u001b[0;34m.\u001b[0m\u001b[0mupdate\u001b[0m\u001b[0;34m(\u001b[0m\u001b[0mkwds_defaults\u001b[0m\u001b[0;34m)\u001b[0m\u001b[0;34m\u001b[0m\u001b[0;34m\u001b[0m\u001b[0m\n\u001b[1;32m    585\u001b[0m \u001b[0;34m\u001b[0m\u001b[0m\n\u001b[0;32m--> 586\u001b[0;31m     \u001b[0;32mreturn\u001b[0m \u001b[0m_read\u001b[0m\u001b[0;34m(\u001b[0m\u001b[0mfilepath_or_buffer\u001b[0m\u001b[0;34m,\u001b[0m \u001b[0mkwds\u001b[0m\u001b[0;34m)\u001b[0m\u001b[0;34m\u001b[0m\u001b[0;34m\u001b[0m\u001b[0m\n\u001b[0m\u001b[1;32m    587\u001b[0m \u001b[0;34m\u001b[0m\u001b[0m\n\u001b[1;32m    588\u001b[0m \u001b[0;34m\u001b[0m\u001b[0m\n",
      "\u001b[0;32m~/opt/anaconda3/envs/PythonData/lib/python3.7/site-packages/pandas/io/parsers/readers.py\u001b[0m in \u001b[0;36m_read\u001b[0;34m(filepath_or_buffer, kwds)\u001b[0m\n\u001b[1;32m    480\u001b[0m \u001b[0;34m\u001b[0m\u001b[0m\n\u001b[1;32m    481\u001b[0m     \u001b[0;31m# Create the parser.\u001b[0m\u001b[0;34m\u001b[0m\u001b[0;34m\u001b[0m\u001b[0;34m\u001b[0m\u001b[0m\n\u001b[0;32m--> 482\u001b[0;31m     \u001b[0mparser\u001b[0m \u001b[0;34m=\u001b[0m \u001b[0mTextFileReader\u001b[0m\u001b[0;34m(\u001b[0m\u001b[0mfilepath_or_buffer\u001b[0m\u001b[0;34m,\u001b[0m \u001b[0;34m**\u001b[0m\u001b[0mkwds\u001b[0m\u001b[0;34m)\u001b[0m\u001b[0;34m\u001b[0m\u001b[0;34m\u001b[0m\u001b[0m\n\u001b[0m\u001b[1;32m    483\u001b[0m \u001b[0;34m\u001b[0m\u001b[0m\n\u001b[1;32m    484\u001b[0m     \u001b[0;32mif\u001b[0m \u001b[0mchunksize\u001b[0m \u001b[0;32mor\u001b[0m \u001b[0miterator\u001b[0m\u001b[0;34m:\u001b[0m\u001b[0;34m\u001b[0m\u001b[0;34m\u001b[0m\u001b[0m\n",
      "\u001b[0;32m~/opt/anaconda3/envs/PythonData/lib/python3.7/site-packages/pandas/io/parsers/readers.py\u001b[0m in \u001b[0;36m__init__\u001b[0;34m(self, f, engine, **kwds)\u001b[0m\n\u001b[1;32m    809\u001b[0m             \u001b[0mself\u001b[0m\u001b[0;34m.\u001b[0m\u001b[0moptions\u001b[0m\u001b[0;34m[\u001b[0m\u001b[0;34m\"has_index_names\"\u001b[0m\u001b[0;34m]\u001b[0m \u001b[0;34m=\u001b[0m \u001b[0mkwds\u001b[0m\u001b[0;34m[\u001b[0m\u001b[0;34m\"has_index_names\"\u001b[0m\u001b[0;34m]\u001b[0m\u001b[0;34m\u001b[0m\u001b[0;34m\u001b[0m\u001b[0m\n\u001b[1;32m    810\u001b[0m \u001b[0;34m\u001b[0m\u001b[0m\n\u001b[0;32m--> 811\u001b[0;31m         \u001b[0mself\u001b[0m\u001b[0;34m.\u001b[0m\u001b[0m_engine\u001b[0m \u001b[0;34m=\u001b[0m \u001b[0mself\u001b[0m\u001b[0;34m.\u001b[0m\u001b[0m_make_engine\u001b[0m\u001b[0;34m(\u001b[0m\u001b[0mself\u001b[0m\u001b[0;34m.\u001b[0m\u001b[0mengine\u001b[0m\u001b[0;34m)\u001b[0m\u001b[0;34m\u001b[0m\u001b[0;34m\u001b[0m\u001b[0m\n\u001b[0m\u001b[1;32m    812\u001b[0m \u001b[0;34m\u001b[0m\u001b[0m\n\u001b[1;32m    813\u001b[0m     \u001b[0;32mdef\u001b[0m \u001b[0mclose\u001b[0m\u001b[0;34m(\u001b[0m\u001b[0mself\u001b[0m\u001b[0;34m)\u001b[0m\u001b[0;34m:\u001b[0m\u001b[0;34m\u001b[0m\u001b[0;34m\u001b[0m\u001b[0m\n",
      "\u001b[0;32m~/opt/anaconda3/envs/PythonData/lib/python3.7/site-packages/pandas/io/parsers/readers.py\u001b[0m in \u001b[0;36m_make_engine\u001b[0;34m(self, engine)\u001b[0m\n\u001b[1;32m   1038\u001b[0m             )\n\u001b[1;32m   1039\u001b[0m         \u001b[0;31m# error: Too many arguments for \"ParserBase\"\u001b[0m\u001b[0;34m\u001b[0m\u001b[0;34m\u001b[0m\u001b[0;34m\u001b[0m\u001b[0m\n\u001b[0;32m-> 1040\u001b[0;31m         \u001b[0;32mreturn\u001b[0m \u001b[0mmapping\u001b[0m\u001b[0;34m[\u001b[0m\u001b[0mengine\u001b[0m\u001b[0;34m]\u001b[0m\u001b[0;34m(\u001b[0m\u001b[0mself\u001b[0m\u001b[0;34m.\u001b[0m\u001b[0mf\u001b[0m\u001b[0;34m,\u001b[0m \u001b[0;34m**\u001b[0m\u001b[0mself\u001b[0m\u001b[0;34m.\u001b[0m\u001b[0moptions\u001b[0m\u001b[0;34m)\u001b[0m  \u001b[0;31m# type: ignore[call-arg]\u001b[0m\u001b[0;34m\u001b[0m\u001b[0;34m\u001b[0m\u001b[0m\n\u001b[0m\u001b[1;32m   1041\u001b[0m \u001b[0;34m\u001b[0m\u001b[0m\n\u001b[1;32m   1042\u001b[0m     \u001b[0;32mdef\u001b[0m \u001b[0m_failover_to_python\u001b[0m\u001b[0;34m(\u001b[0m\u001b[0mself\u001b[0m\u001b[0;34m)\u001b[0m\u001b[0;34m:\u001b[0m\u001b[0;34m\u001b[0m\u001b[0;34m\u001b[0m\u001b[0m\n",
      "\u001b[0;32m~/opt/anaconda3/envs/PythonData/lib/python3.7/site-packages/pandas/io/parsers/c_parser_wrapper.py\u001b[0m in \u001b[0;36m__init__\u001b[0;34m(self, src, **kwds)\u001b[0m\n\u001b[1;32m     49\u001b[0m \u001b[0;34m\u001b[0m\u001b[0m\n\u001b[1;32m     50\u001b[0m         \u001b[0;31m# open handles\u001b[0m\u001b[0;34m\u001b[0m\u001b[0;34m\u001b[0m\u001b[0;34m\u001b[0m\u001b[0m\n\u001b[0;32m---> 51\u001b[0;31m         \u001b[0mself\u001b[0m\u001b[0;34m.\u001b[0m\u001b[0m_open_handles\u001b[0m\u001b[0;34m(\u001b[0m\u001b[0msrc\u001b[0m\u001b[0;34m,\u001b[0m \u001b[0mkwds\u001b[0m\u001b[0;34m)\u001b[0m\u001b[0;34m\u001b[0m\u001b[0;34m\u001b[0m\u001b[0m\n\u001b[0m\u001b[1;32m     52\u001b[0m         \u001b[0;32massert\u001b[0m \u001b[0mself\u001b[0m\u001b[0;34m.\u001b[0m\u001b[0mhandles\u001b[0m \u001b[0;32mis\u001b[0m \u001b[0;32mnot\u001b[0m \u001b[0;32mNone\u001b[0m\u001b[0;34m\u001b[0m\u001b[0;34m\u001b[0m\u001b[0m\n\u001b[1;32m     53\u001b[0m \u001b[0;34m\u001b[0m\u001b[0m\n",
      "\u001b[0;32m~/opt/anaconda3/envs/PythonData/lib/python3.7/site-packages/pandas/io/parsers/base_parser.py\u001b[0m in \u001b[0;36m_open_handles\u001b[0;34m(self, src, kwds)\u001b[0m\n\u001b[1;32m    227\u001b[0m             \u001b[0mmemory_map\u001b[0m\u001b[0;34m=\u001b[0m\u001b[0mkwds\u001b[0m\u001b[0;34m.\u001b[0m\u001b[0mget\u001b[0m\u001b[0;34m(\u001b[0m\u001b[0;34m\"memory_map\"\u001b[0m\u001b[0;34m,\u001b[0m \u001b[0;32mFalse\u001b[0m\u001b[0;34m)\u001b[0m\u001b[0;34m,\u001b[0m\u001b[0;34m\u001b[0m\u001b[0;34m\u001b[0m\u001b[0m\n\u001b[1;32m    228\u001b[0m             \u001b[0mstorage_options\u001b[0m\u001b[0;34m=\u001b[0m\u001b[0mkwds\u001b[0m\u001b[0;34m.\u001b[0m\u001b[0mget\u001b[0m\u001b[0;34m(\u001b[0m\u001b[0;34m\"storage_options\"\u001b[0m\u001b[0;34m,\u001b[0m \u001b[0;32mNone\u001b[0m\u001b[0;34m)\u001b[0m\u001b[0;34m,\u001b[0m\u001b[0;34m\u001b[0m\u001b[0;34m\u001b[0m\u001b[0m\n\u001b[0;32m--> 229\u001b[0;31m             \u001b[0merrors\u001b[0m\u001b[0;34m=\u001b[0m\u001b[0mkwds\u001b[0m\u001b[0;34m.\u001b[0m\u001b[0mget\u001b[0m\u001b[0;34m(\u001b[0m\u001b[0;34m\"encoding_errors\"\u001b[0m\u001b[0;34m,\u001b[0m \u001b[0;34m\"strict\"\u001b[0m\u001b[0;34m)\u001b[0m\u001b[0;34m,\u001b[0m\u001b[0;34m\u001b[0m\u001b[0;34m\u001b[0m\u001b[0m\n\u001b[0m\u001b[1;32m    230\u001b[0m         )\n\u001b[1;32m    231\u001b[0m \u001b[0;34m\u001b[0m\u001b[0m\n",
      "\u001b[0;32m~/opt/anaconda3/envs/PythonData/lib/python3.7/site-packages/pandas/io/common.py\u001b[0m in \u001b[0;36mget_handle\u001b[0;34m(path_or_buf, mode, encoding, compression, memory_map, is_text, errors, storage_options)\u001b[0m\n\u001b[1;32m    705\u001b[0m                 \u001b[0mencoding\u001b[0m\u001b[0;34m=\u001b[0m\u001b[0mioargs\u001b[0m\u001b[0;34m.\u001b[0m\u001b[0mencoding\u001b[0m\u001b[0;34m,\u001b[0m\u001b[0;34m\u001b[0m\u001b[0;34m\u001b[0m\u001b[0m\n\u001b[1;32m    706\u001b[0m                 \u001b[0merrors\u001b[0m\u001b[0;34m=\u001b[0m\u001b[0merrors\u001b[0m\u001b[0;34m,\u001b[0m\u001b[0;34m\u001b[0m\u001b[0;34m\u001b[0m\u001b[0m\n\u001b[0;32m--> 707\u001b[0;31m                 \u001b[0mnewline\u001b[0m\u001b[0;34m=\u001b[0m\u001b[0;34m\"\"\u001b[0m\u001b[0;34m,\u001b[0m\u001b[0;34m\u001b[0m\u001b[0;34m\u001b[0m\u001b[0m\n\u001b[0m\u001b[1;32m    708\u001b[0m             )\n\u001b[1;32m    709\u001b[0m         \u001b[0;32melse\u001b[0m\u001b[0;34m:\u001b[0m\u001b[0;34m\u001b[0m\u001b[0;34m\u001b[0m\u001b[0m\n",
      "\u001b[0;31mFileNotFoundError\u001b[0m: [Errno 2] No such file or directory: '../Final Project/Clean Data/suicide_oecd_clean.csv'"
     ]
    }
   ],
   "source": [
    "# IMPORTING CSV FILE-Suicide OECD\n",
    "oecd_data = os.path.join('..', 'Final Project','Clean Data', 'suicide_oecd_clean.csv')\n",
    "oecd_df = pd.read_csv(oecd_data)\n",
    "oecd_df.head()"
   ]
  },
  {
   "cell_type": "code",
   "execution_count": null,
   "id": "27711d09",
   "metadata": {},
   "outputs": [],
   "source": [
    "#Drop Columns\n",
    "oecd_df = oecd_df.drop(columns=['Suicide_val_MEN','Suicide_val_WOMEN','LOCATION',\"TIME\"])\n",
    "display(oecd_df)"
   ]
  },
  {
   "cell_type": "code",
   "execution_count": null,
   "id": "25fc4db8",
   "metadata": {},
   "outputs": [],
   "source": [
    "# Get Null Values\n",
    "oecd_df.isnull().sum()"
   ]
  },
  {
   "cell_type": "code",
   "execution_count": null,
   "id": "78f01703",
   "metadata": {},
   "outputs": [],
   "source": [
    "# IMPORTING CSV FILE-Alcohol\n",
    "alc_data = os.path.join('..', 'Final Project','Clean Data', 'alcohol_clean.csv')\n",
    "alc_df = pd.read_csv(alc_data)\n",
    "alc_df.head()"
   ]
  },
  {
   "cell_type": "code",
   "execution_count": null,
   "id": "2591c934",
   "metadata": {},
   "outputs": [],
   "source": [
    "#Drop Columns\n",
    "alc_df = alc_df.drop(columns=['LOCATION','TIME'])\n",
    "alc_df.head()"
   ]
  },
  {
   "cell_type": "code",
   "execution_count": null,
   "id": "018aa11c",
   "metadata": {},
   "outputs": [],
   "source": [
    "# Merge OECD and Alcohol\n",
    "df1 = pd.merge(oecd_df, alc_df, on='LocationTime', how='left')\n",
    "display(df1)"
   ]
  },
  {
   "cell_type": "code",
   "execution_count": null,
   "id": "5d9e1cbd",
   "metadata": {},
   "outputs": [],
   "source": [
    "# IMPORTING CSV FILE-Education\n",
    "edu_data = os.path.join('..', 'Final Project','Clean Data', 'Education_clean.csv')\n",
    "edu_df = pd.read_csv(edu_data)\n",
    "edu_df.head()"
   ]
  },
  {
   "cell_type": "code",
   "execution_count": null,
   "id": "42dba742",
   "metadata": {},
   "outputs": [],
   "source": [
    "#Drop Columns\n",
    "edu_df = edu_df.drop(columns=['LOCATION','TIME'])\n",
    "edu_df.head()"
   ]
  },
  {
   "cell_type": "code",
   "execution_count": null,
   "id": "f1fb8c72",
   "metadata": {},
   "outputs": [],
   "source": [
    "# Merge df1 and Education\n",
    "df2 = pd.merge(df1, edu_df, on='LocationTime', how='left')\n",
    "display(df2)"
   ]
  },
  {
   "cell_type": "code",
   "execution_count": null,
   "id": "62ed1c47",
   "metadata": {},
   "outputs": [],
   "source": [
    "# IMPORTING CSV FILE-Employment\n",
    "emp_data = os.path.join('..', 'Final Project','Clean Data', 'employment_clean.csv')\n",
    "emp_df = pd.read_csv(emp_data)\n",
    "emp_df.head()"
   ]
  },
  {
   "cell_type": "code",
   "execution_count": null,
   "id": "1303bbf5",
   "metadata": {},
   "outputs": [],
   "source": [
    "#Drop Columns\n",
    "emp_df = emp_df.drop(columns=['LOCATION','TIME','employment_val_MEN_PC_WKGPOP','employment_val_MEN_THND_PER','employment_val_WOMEN_PC_WKGPOP','employment_val_WOMEN_THND_PER'])\n",
    "emp_df.head()"
   ]
  },
  {
   "cell_type": "code",
   "execution_count": null,
   "id": "96ce561c",
   "metadata": {},
   "outputs": [],
   "source": [
    "# Merge df2 and Employment\n",
    "df3 = pd.merge(df2, emp_df, on='LocationTime', how='left')\n",
    "display(df3)"
   ]
  },
  {
   "cell_type": "code",
   "execution_count": null,
   "id": "25479aa7",
   "metadata": {},
   "outputs": [],
   "source": [
    "# IMPORTING CSV FILE-Health Spending\n",
    "hSpend_data = os.path.join('..', 'Final Project','Clean Data', 'health_spending_clean.csv')\n",
    "hSpend_df = pd.read_csv(hSpend_data)\n",
    "hSpend_df.head()"
   ]
  },
  {
   "cell_type": "code",
   "execution_count": null,
   "id": "c331fd89",
   "metadata": {},
   "outputs": [],
   "source": [
    "#Drop Columns\n",
    "hSpend_df = hSpend_df.drop(columns=['LOCATION'])\n",
    "hSpend_df.head()"
   ]
  },
  {
   "cell_type": "code",
   "execution_count": null,
   "id": "f0726aef",
   "metadata": {},
   "outputs": [],
   "source": [
    "# Merge df3 and Health Spending\n",
    "df4 = pd.merge(df3, hSpend_df, on='LocationTime', how='left')\n",
    "display(df4)"
   ]
  },
  {
   "cell_type": "code",
   "execution_count": null,
   "id": "56590b40",
   "metadata": {},
   "outputs": [],
   "source": [
    "# IMPORTING CSV FILE-Obesity\n",
    "ob_data = os.path.join('..', 'Final Project','Clean Data', 'obesity_clean.csv')\n",
    "ob_df = pd.read_csv(ob_data)\n",
    "ob_df.head()"
   ]
  },
  {
   "cell_type": "code",
   "execution_count": null,
   "id": "09a9afad",
   "metadata": {},
   "outputs": [],
   "source": [
    "#Drop Columns\n",
    "ob_df = ob_df.drop(columns=['LOCATION','TIME'])\n",
    "ob_df.head()"
   ]
  },
  {
   "cell_type": "code",
   "execution_count": null,
   "id": "478558ca",
   "metadata": {},
   "outputs": [],
   "source": [
    "# Merge df4 and Obesity\n",
    "df5 = pd.merge(df4, ob_df, on='LocationTime', how='left')\n",
    "display(df5)"
   ]
  },
  {
   "cell_type": "code",
   "execution_count": null,
   "id": "4200291f",
   "metadata": {},
   "outputs": [],
   "source": [
    "# IMPORTING CSV FILE-Poverty\n",
    "pov_data = os.path.join('..', 'Final Project','Clean Data', 'poverty_clean.csv')\n",
    "pov_df = pd.read_csv(pov_data)\n",
    "pov_df.head()"
   ]
  },
  {
   "cell_type": "code",
   "execution_count": null,
   "id": "9369b8a2",
   "metadata": {},
   "outputs": [],
   "source": [
    "#Drop Columns\n",
    "pov_df = pov_df.drop(columns=['LOCATION','TIME'])\n",
    "pov_df.head()"
   ]
  },
  {
   "cell_type": "code",
   "execution_count": null,
   "id": "c547ef3a",
   "metadata": {},
   "outputs": [],
   "source": [
    "# Merge df5 and Poverty\n",
    "df6 = pd.merge(df5, pov_df, on='LocationTime', how='left')\n",
    "display(df6)"
   ]
  },
  {
   "cell_type": "code",
   "execution_count": null,
   "id": "c214f389",
   "metadata": {},
   "outputs": [],
   "source": [
    "# IMPORTING CSV FILE-Smoking\n",
    "smok_data = os.path.join('..', 'Final Project','Clean Data', 'smoking_clean.csv')\n",
    "smok_df = pd.read_csv(smok_data)\n",
    "smok_df.head()"
   ]
  },
  {
   "cell_type": "code",
   "execution_count": null,
   "id": "04b95136",
   "metadata": {},
   "outputs": [],
   "source": [
    "#Drop Columns\n",
    "smok_df = smok_df.drop(columns=['LOCATION','TIME'])\n",
    "smok_df.head()"
   ]
  },
  {
   "cell_type": "code",
   "execution_count": null,
   "id": "084d3f7b",
   "metadata": {},
   "outputs": [],
   "source": [
    "# Merge df6 and Smoking\n",
    "df7 = pd.merge(df6, smok_df, on='LocationTime', how='left')\n",
    "display(df7)"
   ]
  },
  {
   "cell_type": "code",
   "execution_count": null,
   "id": "40bdf780",
   "metadata": {},
   "outputs": [],
   "source": [
    "# Get Null Values\n",
    "df7.isnull().sum()"
   ]
  },
  {
   "cell_type": "code",
   "execution_count": null,
   "id": "bfa983e3",
   "metadata": {},
   "outputs": [],
   "source": [
    "# IMPORTING CSV FILE-Social Spending\n",
    "socSpend_data = os.path.join('..', 'Final Project','Clean Data', 'social_spending_clean.csv')\n",
    "socSpend_df = pd.read_csv(socSpend_data)\n",
    "socSpend_df.head()"
   ]
  },
  {
   "cell_type": "code",
   "execution_count": null,
   "id": "eab21a86",
   "metadata": {},
   "outputs": [],
   "source": [
    "#Drop Columns\n",
    "socSpend_df = socSpend_df.drop(columns=['LOCATION','TIME'])\n",
    "socSpend_df.head()"
   ]
  },
  {
   "cell_type": "code",
   "execution_count": null,
   "id": "9dcbfa8f",
   "metadata": {},
   "outputs": [],
   "source": [
    "# Merge df7 and Social Spending\n",
    "df8 = pd.merge(df7, socSpend_df, on='LocationTime', how='left')\n",
    "display(df8)"
   ]
  },
  {
   "cell_type": "code",
   "execution_count": null,
   "id": "704520a7",
   "metadata": {},
   "outputs": [],
   "source": [
    "# IMPORTING CSV FILE-Social Support\n",
    "socSup_data = os.path.join('..', 'Final Project','Clean Data', 'social_support_clean.csv')\n",
    "socSup_df = pd.read_csv(socSup_data)\n",
    "socSup_df.head()"
   ]
  },
  {
   "cell_type": "code",
   "execution_count": null,
   "id": "4e94a205",
   "metadata": {},
   "outputs": [],
   "source": [
    "#Drop Columns\n",
    "socSup_df = socSup_df.drop(columns=['TIME'])\n",
    "socSup_df.head()"
   ]
  },
  {
   "cell_type": "code",
   "execution_count": null,
   "id": "d7edbb8b",
   "metadata": {},
   "outputs": [],
   "source": [
    "# Merge df8 and Social Support\n",
    "df9 = pd.merge(df8, socSup_df, on='LocationTime', how='left')\n",
    "display(df9)"
   ]
  },
  {
   "cell_type": "code",
   "execution_count": null,
   "id": "58a2878c",
   "metadata": {},
   "outputs": [],
   "source": [
    "# IMPORTING CSV FILE-Demographics\n",
    "demo_data = os.path.join('..', 'Final Project','Clean Data', 'suicide_clean.csv')\n",
    "demo_df = pd.read_csv(demo_data)\n",
    "demo_df.head()"
   ]
  },
  {
   "cell_type": "code",
   "execution_count": null,
   "id": "59220540",
   "metadata": {},
   "outputs": [],
   "source": [
    "#Drop Columns\n",
    "demo_df = demo_df.drop(columns=['Location','country','year'])\n",
    "demo_df.head()"
   ]
  },
  {
   "cell_type": "code",
   "execution_count": null,
   "id": "6945870c",
   "metadata": {},
   "outputs": [],
   "source": [
    "# Merge df9 and Demographics\n",
    "df10 = pd.merge(df9, demo_df, on='LocationTime', how='left')\n",
    "display(df10)"
   ]
  },
  {
   "cell_type": "code",
   "execution_count": null,
   "id": "ced96096",
   "metadata": {},
   "outputs": [],
   "source": [
    "# Get Null Values\n",
    "df10.isnull().sum()"
   ]
  },
  {
   "cell_type": "code",
   "execution_count": null,
   "id": "9fb53624",
   "metadata": {},
   "outputs": [],
   "source": [
    "# Save in a new csv file\n",
    "df10.to_csv('Suicide-Final2.csv', index=False)"
   ]
  },
  {
   "cell_type": "code",
   "execution_count": null,
   "id": "3402a90e",
   "metadata": {},
   "outputs": [],
   "source": []
  }
 ],
 "metadata": {
  "kernelspec": {
   "display_name": "PythonData",
   "language": "python",
   "name": "pythondata"
  },
  "language_info": {
   "codemirror_mode": {
    "name": "ipython",
    "version": 3
   },
   "file_extension": ".py",
   "mimetype": "text/x-python",
   "name": "python",
   "nbconvert_exporter": "python",
   "pygments_lexer": "ipython3",
   "version": "3.7.13"
  }
 },
 "nbformat": 4,
 "nbformat_minor": 5
}
